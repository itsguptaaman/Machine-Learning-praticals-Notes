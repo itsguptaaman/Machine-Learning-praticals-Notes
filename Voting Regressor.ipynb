{
 "cells": [
  {
   "cell_type": "code",
   "execution_count": null,
   "id": "c030aebb",
   "metadata": {},
   "outputs": [],
   "source": []
  },
  {
   "cell_type": "code",
   "execution_count": 1,
   "id": "80098a3d",
   "metadata": {},
   "outputs": [
    {
     "name": "stderr",
     "output_type": "stream",
     "text": [
      "C:\\Users\\Aman\\anaconda3\\lib\\site-packages\\sklearn\\utils\\deprecation.py:87: FutureWarning: Function load_boston is deprecated; `load_boston` is deprecated in 1.0 and will be removed in 1.2.\n",
      "\n",
      "    The Boston housing prices dataset has an ethical problem. You can refer to\n",
      "    the documentation of this function for further details.\n",
      "\n",
      "    The scikit-learn maintainers therefore strongly discourage the use of this\n",
      "    dataset unless the purpose of the code is to study and educate about\n",
      "    ethical issues in data science and machine learning.\n",
      "\n",
      "    In this special case, you can fetch the dataset from the original\n",
      "    source::\n",
      "\n",
      "        import pandas as pd\n",
      "        import numpy as np\n",
      "\n",
      "        data_url = \"http://lib.stat.cmu.edu/datasets/boston\"\n",
      "        raw_df = pd.read_csv(data_url, sep=\"\\s+\", skiprows=22, header=None)\n",
      "        data = np.hstack([raw_df.values[::2, :], raw_df.values[1::2, :2]])\n",
      "        target = raw_df.values[1::2, 2]\n",
      "\n",
      "    Alternative datasets include the California housing dataset (i.e.\n",
      "    :func:`~sklearn.datasets.fetch_california_housing`) and the Ames housing\n",
      "    dataset. You can load the datasets as follows::\n",
      "\n",
      "        from sklearn.datasets import fetch_california_housing\n",
      "        housing = fetch_california_housing()\n",
      "\n",
      "    for the California housing dataset and::\n",
      "\n",
      "        from sklearn.datasets import fetch_openml\n",
      "        housing = fetch_openml(name=\"house_prices\", as_frame=True)\n",
      "\n",
      "    for the Ames housing dataset.\n",
      "  warnings.warn(msg, category=FutureWarning)\n"
     ]
    }
   ],
   "source": [
    "from sklearn.datasets import load_boston\n",
    "import numpy as np\n",
    "X,y = load_boston(return_X_y=True)"
   ]
  },
  {
   "cell_type": "code",
   "execution_count": 2,
   "id": "f982ce19",
   "metadata": {},
   "outputs": [
    {
     "data": {
      "text/plain": [
       "(506, 13)"
      ]
     },
     "execution_count": 2,
     "metadata": {},
     "output_type": "execute_result"
    }
   ],
   "source": [
    "X.shape"
   ]
  },
  {
   "cell_type": "code",
   "execution_count": 3,
   "id": "fb701b32",
   "metadata": {},
   "outputs": [
    {
     "data": {
      "text/plain": [
       "(506,)"
      ]
     },
     "execution_count": 3,
     "metadata": {},
     "output_type": "execute_result"
    }
   ],
   "source": [
    "y.shape"
   ]
  },
  {
   "cell_type": "code",
   "execution_count": 4,
   "id": "4a733356",
   "metadata": {},
   "outputs": [
    {
     "data": {
      "text/plain": [
       "array([[6.3200e-03, 1.8000e+01, 2.3100e+00, ..., 1.5300e+01, 3.9690e+02,\n",
       "        4.9800e+00],\n",
       "       [2.7310e-02, 0.0000e+00, 7.0700e+00, ..., 1.7800e+01, 3.9690e+02,\n",
       "        9.1400e+00],\n",
       "       [2.7290e-02, 0.0000e+00, 7.0700e+00, ..., 1.7800e+01, 3.9283e+02,\n",
       "        4.0300e+00],\n",
       "       ...,\n",
       "       [6.0760e-02, 0.0000e+00, 1.1930e+01, ..., 2.1000e+01, 3.9690e+02,\n",
       "        5.6400e+00],\n",
       "       [1.0959e-01, 0.0000e+00, 1.1930e+01, ..., 2.1000e+01, 3.9345e+02,\n",
       "        6.4800e+00],\n",
       "       [4.7410e-02, 0.0000e+00, 1.1930e+01, ..., 2.1000e+01, 3.9690e+02,\n",
       "        7.8800e+00]])"
      ]
     },
     "execution_count": 4,
     "metadata": {},
     "output_type": "execute_result"
    }
   ],
   "source": [
    "X"
   ]
  },
  {
   "cell_type": "code",
   "execution_count": 5,
   "id": "37e5269d",
   "metadata": {},
   "outputs": [],
   "source": [
    "from sklearn.linear_model import LinearRegression\n",
    "from sklearn.tree import DecisionTreeRegressor\n",
    "from sklearn.svm import SVR\n",
    "from sklearn.model_selection import cross_val_score"
   ]
  },
  {
   "cell_type": "code",
   "execution_count": 6,
   "id": "1bafe143",
   "metadata": {},
   "outputs": [],
   "source": [
    "lr = LinearRegression()\n",
    "dt = DecisionTreeRegressor()\n",
    "svr = SVR()"
   ]
  },
  {
   "cell_type": "code",
   "execution_count": 7,
   "id": "e5668df8",
   "metadata": {},
   "outputs": [
    {
     "name": "stdout",
     "output_type": "stream",
     "text": [
      "lr 0.2\n",
      "dt -0.14\n",
      "svr -0.41\n"
     ]
    }
   ],
   "source": [
    "estimators = [('lr',lr),('dt',dt),('svr',svr)]\n",
    "for estimator in estimators:\n",
    "  scores = cross_val_score(estimator[1],X,y,scoring='r2',cv=10)\n",
    "  print(estimator[0],np.round(np.mean(scores),2))"
   ]
  },
  {
   "cell_type": "code",
   "execution_count": 8,
   "id": "7704aefc",
   "metadata": {},
   "outputs": [
    {
     "name": "stdout",
     "output_type": "stream",
     "text": [
      "Voting Regressor 0.4\n"
     ]
    }
   ],
   "source": [
    "from sklearn.ensemble import VotingRegressor\n",
    "vr = VotingRegressor(estimators)\n",
    "scores = cross_val_score(vr,X,y,scoring='r2',cv=10)\n",
    "print(\"Voting Regressor\",np.round(np.mean(scores),2))\n"
   ]
  },
  {
   "cell_type": "code",
   "execution_count": 9,
   "id": "d4ca5c5a",
   "metadata": {},
   "outputs": [
    {
     "name": "stdout",
     "output_type": "stream",
     "text": [
      "For i=1,j=1,k=1 0.45\n",
      "For i=1,j=1,k=2 0.36\n",
      "For i=1,j=1,k=3 0.27\n",
      "For i=1,j=2,k=1 0.43\n",
      "For i=1,j=2,k=2 0.39\n",
      "For i=1,j=2,k=3 0.29\n",
      "For i=1,j=3,k=1 0.37\n",
      "For i=1,j=3,k=2 0.37\n",
      "For i=1,j=3,k=3 0.37\n",
      "For i=2,j=1,k=1 0.41\n",
      "For i=2,j=1,k=2 0.42\n",
      "For i=2,j=1,k=3 0.35\n",
      "For i=2,j=2,k=1 0.44\n",
      "For i=2,j=2,k=2 0.44\n",
      "For i=2,j=2,k=3 0.41\n",
      "For i=2,j=3,k=1 0.36\n",
      "For i=2,j=3,k=2 0.44\n",
      "For i=2,j=3,k=3 0.41\n",
      "For i=3,j=1,k=1 0.42\n",
      "For i=3,j=1,k=2 0.43\n",
      "For i=3,j=1,k=3 0.4\n",
      "For i=3,j=2,k=1 0.45\n",
      "For i=3,j=2,k=2 0.47\n",
      "For i=3,j=2,k=3 0.43\n",
      "For i=3,j=3,k=1 0.36\n",
      "For i=3,j=3,k=2 0.45\n",
      "For i=3,j=3,k=3 0.43\n"
     ]
    }
   ],
   "source": [
    "for i in range(1,4):\n",
    "  for j in range(1,4):\n",
    "    for k in range(1,4):\n",
    "      vr = VotingRegressor(estimators,weights=[i,j,k])\n",
    "      scores = cross_val_score(vr,X,y,scoring='r2',cv=10)\n",
    "      print(\"For i={},j={},k={}\".format(i,j,k),np.round(np.mean(scores),2))\n"
   ]
  },
  {
   "cell_type": "code",
   "execution_count": 10,
   "id": "3f366021",
   "metadata": {},
   "outputs": [],
   "source": [
    "# using the same algorithm\n",
    "\n",
    "dt1 = DecisionTreeRegressor(max_depth=1)\n",
    "dt2 = DecisionTreeRegressor(max_depth=3)\n",
    "dt3 = DecisionTreeRegressor(max_depth=5)\n",
    "dt4 = DecisionTreeRegressor(max_depth=7)\n",
    "dt5 = DecisionTreeRegressor(max_depth=None)"
   ]
  },
  {
   "cell_type": "code",
   "execution_count": 11,
   "id": "12104595",
   "metadata": {},
   "outputs": [],
   "source": [
    "estimators = [('dt1',dt1),('dt2',dt2),('dt3',dt3),('dt4',dt4),('dt5',dt5)]"
   ]
  },
  {
   "cell_type": "code",
   "execution_count": 12,
   "id": "73d00b01",
   "metadata": {},
   "outputs": [
    {
     "name": "stdout",
     "output_type": "stream",
     "text": [
      "dt1 -0.85\n",
      "dt2 -0.11\n",
      "dt3 0.07\n",
      "dt4 0.16\n",
      "dt5 -0.22\n"
     ]
    }
   ],
   "source": [
    "\n",
    "for estimator in estimators:\n",
    "  scores = cross_val_score(estimator[1],X,y,scoring='r2',cv=10)\n",
    "  print(estimator[0],np.round(np.mean(scores),2)) "
   ]
  },
  {
   "cell_type": "code",
   "execution_count": 15,
   "id": "96435913",
   "metadata": {},
   "outputs": [
    {
     "name": "stdout",
     "output_type": "stream",
     "text": [
      "Voting Regressor 0.2\n"
     ]
    }
   ],
   "source": [
    "vr = VotingRegressor(estimators)\n",
    "scores = cross_val_score(vr,X,y,scoring='r2',cv=10)\n",
    "print(\"Voting Regressor\",np.round(np.mean(scores),2))\n"
   ]
  },
  {
   "cell_type": "code",
   "execution_count": null,
   "id": "99592b91",
   "metadata": {},
   "outputs": [],
   "source": []
  },
  {
   "cell_type": "code",
   "execution_count": null,
   "id": "879a3869",
   "metadata": {},
   "outputs": [],
   "source": []
  }
 ],
 "metadata": {
  "kernelspec": {
   "display_name": "Python 3 (ipykernel)",
   "language": "python",
   "name": "python3"
  },
  "language_info": {
   "codemirror_mode": {
    "name": "ipython",
    "version": 3
   },
   "file_extension": ".py",
   "mimetype": "text/x-python",
   "name": "python",
   "nbconvert_exporter": "python",
   "pygments_lexer": "ipython3",
   "version": "3.9.12"
  }
 },
 "nbformat": 4,
 "nbformat_minor": 5
}
